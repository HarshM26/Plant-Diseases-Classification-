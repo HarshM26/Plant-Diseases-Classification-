{
  "nbformat": 4,
  "nbformat_minor": 0,
  "metadata": {
    "colab": {
      "provenance": [],
      "gpuType": "T4"
    },
    "kernelspec": {
      "name": "python3",
      "display_name": "Python 3"
    },
    "language_info": {
      "name": "python"
    },
    "accelerator": "GPU"
  },
  "cells": [
    {
      "cell_type": "code",
      "execution_count": 4,
      "metadata": {
        "id": "dvXThSOqkLkH"
      },
      "outputs": [],
      "source": [
        "import tensorflow as tf\n",
        "from tensorflow.keras.applications import DenseNet121, MobileNetV2\n",
        "from tensorflow.keras.layers import Input, Concatenate, Dense, GlobalAveragePooling2D, Dropout\n",
        "from tensorflow.keras.models import Model\n",
        "from tensorflow.keras.preprocessing.image import ImageDataGenerator\n",
        "import os\n",
        "import numpy as np\n",
        "from sklearn.model_selection import train_test_split\n",
        "import pandas as pd\n",
        "import matplotlib.pyplot as plt"
      ]
    },
    {
      "cell_type": "code",
      "source": [
        "# Define parameters\n",
        "img_height, img_width = 224, 224\n",
        "batch_size = 128\n",
        "num_classes = 6  # Assuming PlantVillage has 38 classes\n",
        "\n"
      ],
      "metadata": {
        "id": "9Ic10XpFlXVg"
      },
      "execution_count": 5,
      "outputs": []
    },
    {
      "cell_type": "code",
      "source": [
        "from google.colab import drive\n",
        "drive.mount('/content/drive')"
      ],
      "metadata": {
        "colab": {
          "base_uri": "https://localhost:8080/"
        },
        "id": "YuewtpShnU91",
        "outputId": "5ba6cb4e-7db1-4077-c6e3-a06b42d0f05f"
      },
      "execution_count": 6,
      "outputs": [
        {
          "output_type": "stream",
          "name": "stdout",
          "text": [
            "Mounted at /content/drive\n"
          ]
        }
      ]
    },
    {
      "cell_type": "code",
      "source": [
        "# Load and preprocess the PlantVillage dataset\n",
        "data_dir = '/content/drive/MyDrive/Tomato_leaf_diseases'\n",
        "\n"
      ],
      "metadata": {
        "id": "rxGJTixnlXR_"
      },
      "execution_count": 7,
      "outputs": []
    },
    {
      "cell_type": "code",
      "source": [
        "# Get list of image file paths and corresponding labels\n",
        "image_paths = []\n",
        "labels = []\n",
        "class_names = sorted(os.listdir(data_dir))\n",
        "class_indices = {name: index for index, name in enumerate(class_names)}\n",
        "\n"
      ],
      "metadata": {
        "id": "tijKm5yxlXP-"
      },
      "execution_count": 8,
      "outputs": []
    },
    {
      "cell_type": "code",
      "source": [
        "for class_name in class_names:\n",
        "    class_dir = os.path.join(data_dir, class_name)\n",
        "    for fname in os.listdir(class_dir):\n",
        "        image_paths.append(os.path.join(class_dir, fname))\n",
        "        labels.append(class_indices[class_name])\n",
        "\n",
        "image_paths = np.array(image_paths)\n",
        "labels = np.array(labels)\n",
        "\n"
      ],
      "metadata": {
        "id": "EjXMo7tElXNt"
      },
      "execution_count": 9,
      "outputs": []
    },
    {
      "cell_type": "code",
      "source": [
        "# Split the data into training, validation, and test sets\n",
        "train_paths, test_paths, train_labels, test_labels = train_test_split(image_paths, labels, test_size=0.2, stratify=labels)\n",
        "train_paths, val_paths, train_labels, val_labels = train_test_split(train_paths, train_labels, test_size=0.25, stratify=train_labels)\n",
        "\n",
        "\n",
        "\n",
        "\n",
        "\n"
      ],
      "metadata": {
        "id": "1LuH_UnElXLX"
      },
      "execution_count": 10,
      "outputs": []
    },
    {
      "cell_type": "code",
      "source": [
        "# Create data generators\n",
        "train_datagen = ImageDataGenerator(\n",
        "    rescale=1./255,\n",
        "    rotation_range=20,\n",
        "    width_shift_range=0.2,\n",
        "    height_shift_range=0.2,\n",
        "    shear_range=0.2,\n",
        "    zoom_range=0.2,\n",
        "    horizontal_flip=True,\n",
        "    fill_mode='nearest'\n",
        ")\n",
        "\n",
        "val_test_datagen = ImageDataGenerator(rescale=1./255)\n"
      ],
      "metadata": {
        "id": "SDOK9UDEocpd"
      },
      "execution_count": 12,
      "outputs": []
    },
    {
      "cell_type": "code",
      "source": [
        "# Modify the DataFrames to have string labels\n",
        "train_dataset = train_datagen.flow_from_dataframe(\n",
        "    dataframe=pd.DataFrame({'filename': train_paths, 'class': train_labels.astype(str)}), # Convert to strings\n",
        "    x_col='filename',\n",
        "    y_col='class',\n",
        "    target_size=(img_height, img_width),\n",
        "    batch_size=batch_size,\n",
        "    class_mode='categorical',\n",
        "    shuffle=True\n",
        ")\n",
        "\n",
        "val_dataset = val_test_datagen.flow_from_dataframe(\n",
        "    dataframe=pd.DataFrame({'filename': val_paths, 'class': val_labels.astype(str)}), # Convert to strings\n",
        "    x_col='filename',\n",
        "    y_col='class',\n",
        "    target_size=(img_height, img_width),\n",
        "    batch_size=batch_size,\n",
        "    class_mode='categorical',\n",
        "    shuffle=False\n",
        ")\n",
        "\n",
        "test_dataset = val_test_datagen.flow_from_dataframe(\n",
        "    dataframe=pd.DataFrame({'filename': test_paths, 'class': test_labels.astype(str)}), # Convert to strings\n",
        "    x_col='filename',\n",
        "    y_col='class',\n",
        "    target_size=(img_height, img_width),\n",
        "    batch_size=batch_size,\n",
        "    class_mode='categorical',\n",
        "    shuffle=False\n",
        ")"
      ],
      "metadata": {
        "id": "3BF5V6pilXJB",
        "colab": {
          "base_uri": "https://localhost:8080/"
        },
        "outputId": "af3bfe5a-8caf-43b2-d861-1aea9f1fae34"
      },
      "execution_count": 14,
      "outputs": [
        {
          "output_type": "stream",
          "name": "stdout",
          "text": [
            "Found 1083 validated image filenames belonging to 6 classes.\n",
            "Found 361 validated image filenames belonging to 6 classes.\n",
            "Found 362 validated image filenames belonging to 6 classes.\n"
          ]
        }
      ]
    },
    {
      "cell_type": "code",
      "source": [
        "# Load DenseNet121 and MobileNetV2 without the top layers\n",
        "densenet_model = DenseNet121(weights='imagenet', include_top=False, input_shape=(img_height, img_width, 3))\n",
        "mobilenet_model = MobileNetV2(weights='imagenet', include_top=False, input_shape=(img_height, img_width, 3))\n",
        "\n"
      ],
      "metadata": {
        "id": "7iCFtRLElXGc",
        "colab": {
          "base_uri": "https://localhost:8080/"
        },
        "outputId": "eb5e9b7a-37b6-4676-d28f-8d282240b733"
      },
      "execution_count": 15,
      "outputs": [
        {
          "output_type": "stream",
          "name": "stdout",
          "text": [
            "Downloading data from https://storage.googleapis.com/tensorflow/keras-applications/densenet/densenet121_weights_tf_dim_ordering_tf_kernels_notop.h5\n",
            "29084464/29084464 [==============================] - 0s 0us/step\n",
            "Downloading data from https://storage.googleapis.com/tensorflow/keras-applications/mobilenet_v2/mobilenet_v2_weights_tf_dim_ordering_tf_kernels_1.0_224_no_top.h5\n",
            "9406464/9406464 [==============================] - 0s 0us/step\n"
          ]
        }
      ]
    },
    {
      "cell_type": "code",
      "source": [
        "# Freeze the layers in the pretrained models\n",
        "for layer in densenet_model.layers:\n",
        "    layer.trainable = False\n",
        "\n",
        "for layer in mobilenet_model.layers:\n",
        "    layer.trainable = False\n",
        "\n"
      ],
      "metadata": {
        "id": "NTi0TMwWlXED"
      },
      "execution_count": 16,
      "outputs": []
    },
    {
      "cell_type": "code",
      "source": [
        "# Define inputs\n",
        "input_layer = Input(shape=(img_height, img_width, 3))\n",
        "\n"
      ],
      "metadata": {
        "id": "97FqNy_8lXBr"
      },
      "execution_count": 17,
      "outputs": []
    },
    {
      "cell_type": "code",
      "source": [
        "# Extract features from both models\n",
        "densenet_features = densenet_model(input_layer)\n",
        "mobilenet_features = mobilenet_model(input_layer)\n",
        "\n"
      ],
      "metadata": {
        "id": "B3r32vJblW_U"
      },
      "execution_count": 18,
      "outputs": []
    },
    {
      "cell_type": "code",
      "source": [
        "# Global average pooling\n",
        "densenet_features = GlobalAveragePooling2D()(densenet_features)\n",
        "mobilenet_features = GlobalAveragePooling2D()(mobilenet_features)\n",
        "\n"
      ],
      "metadata": {
        "id": "qSKLR870lW86"
      },
      "execution_count": 19,
      "outputs": []
    },
    {
      "cell_type": "code",
      "source": [
        "# Concatenate features\n",
        "concatenated_features = Concatenate()([densenet_features, mobilenet_features])\n",
        "\n"
      ],
      "metadata": {
        "id": "itGLe-damKfR"
      },
      "execution_count": 20,
      "outputs": []
    },
    {
      "cell_type": "code",
      "source": [
        "# Add custom dense layers\n",
        "x = Dense(512, activation='relu')(concatenated_features)\n",
        "x = Dropout(0.5)(x)\n",
        "x = Dense(128, activation='relu')(x)\n",
        "x = Dropout(0.5)(x)\n",
        "output_layer = Dense(num_classes, activation='softmax')(x)\n",
        "\n"
      ],
      "metadata": {
        "id": "3arDpqZkmKb0"
      },
      "execution_count": 21,
      "outputs": []
    },
    {
      "cell_type": "code",
      "source": [
        "# Create the model\n",
        "model = Model(inputs=input_layer, outputs=output_layer)\n",
        "\n",
        "\n",
        "\n",
        "\n"
      ],
      "metadata": {
        "id": "3rEeExXxmKZR"
      },
      "execution_count": 22,
      "outputs": []
    },
    {
      "cell_type": "code",
      "source": [
        "# Compile the model\n",
        "model.compile(optimizer='adam', loss='categorical_crossentropy', metrics=['accuracy'])"
      ],
      "metadata": {
        "id": "Jn_1aBL2mKWc"
      },
      "execution_count": 23,
      "outputs": []
    },
    {
      "cell_type": "code",
      "source": [
        "# Summary of the model\n",
        "model.summary()\n",
        "\n"
      ],
      "metadata": {
        "id": "emralgTNmT5v",
        "colab": {
          "base_uri": "https://localhost:8080/"
        },
        "outputId": "cd42db57-2bd4-42e7-bf05-aec0c90cc4c2"
      },
      "execution_count": 24,
      "outputs": [
        {
          "output_type": "stream",
          "name": "stdout",
          "text": [
            "Model: \"model\"\n",
            "__________________________________________________________________________________________________\n",
            " Layer (type)                Output Shape                 Param #   Connected to                  \n",
            "==================================================================================================\n",
            " input_3 (InputLayer)        [(None, 224, 224, 3)]        0         []                            \n",
            "                                                                                                  \n",
            " densenet121 (Functional)    (None, 7, 7, 1024)           7037504   ['input_3[0][0]']             \n",
            "                                                                                                  \n",
            " mobilenetv2_1.00_224 (Func  (None, 7, 7, 1280)           2257984   ['input_3[0][0]']             \n",
            " tional)                                                                                          \n",
            "                                                                                                  \n",
            " global_average_pooling2d (  (None, 1024)                 0         ['densenet121[0][0]']         \n",
            " GlobalAveragePooling2D)                                                                          \n",
            "                                                                                                  \n",
            " global_average_pooling2d_1  (None, 1280)                 0         ['mobilenetv2_1.00_224[0][0]']\n",
            "  (GlobalAveragePooling2D)                                                                        \n",
            "                                                                                                  \n",
            " concatenate (Concatenate)   (None, 2304)                 0         ['global_average_pooling2d[0][\n",
            "                                                                    0]',                          \n",
            "                                                                     'global_average_pooling2d_1[0\n",
            "                                                                    ][0]']                        \n",
            "                                                                                                  \n",
            " dense (Dense)               (None, 512)                  1180160   ['concatenate[0][0]']         \n",
            "                                                                                                  \n",
            " dropout (Dropout)           (None, 512)                  0         ['dense[0][0]']               \n",
            "                                                                                                  \n",
            " dense_1 (Dense)             (None, 128)                  65664     ['dropout[0][0]']             \n",
            "                                                                                                  \n",
            " dropout_1 (Dropout)         (None, 128)                  0         ['dense_1[0][0]']             \n",
            "                                                                                                  \n",
            " dense_2 (Dense)             (None, 6)                    774       ['dropout_1[0][0]']           \n",
            "                                                                                                  \n",
            "==================================================================================================\n",
            "Total params: 10542086 (40.21 MB)\n",
            "Trainable params: 1246598 (4.76 MB)\n",
            "Non-trainable params: 9295488 (35.46 MB)\n",
            "__________________________________________________________________________________________________\n"
          ]
        }
      ]
    },
    {
      "cell_type": "code",
      "source": [
        "# Train the model\n",
        "history = model.fit(train_dataset, validation_data=val_dataset, epochs=30)\n",
        "\n"
      ],
      "metadata": {
        "id": "FtGYXCBamT2W",
        "colab": {
          "base_uri": "https://localhost:8080/"
        },
        "outputId": "7b33555f-30d7-46a1-8a6b-dc74c634be9c"
      },
      "execution_count": 25,
      "outputs": [
        {
          "output_type": "stream",
          "name": "stdout",
          "text": [
            "Epoch 1/30\n",
            "9/9 [==============================] - 765s 83s/step - loss: 1.4387 - accuracy: 0.5402 - val_loss: 0.6871 - val_accuracy: 0.7867\n",
            "Epoch 2/30\n",
            "9/9 [==============================] - 108s 12s/step - loss: 0.9401 - accuracy: 0.6741 - val_loss: 0.6152 - val_accuracy: 0.7812\n",
            "Epoch 3/30\n",
            "9/9 [==============================] - 101s 11s/step - loss: 0.7865 - accuracy: 0.7064 - val_loss: 0.5356 - val_accuracy: 0.7895\n",
            "Epoch 4/30\n",
            "9/9 [==============================] - 125s 14s/step - loss: 0.6766 - accuracy: 0.7507 - val_loss: 0.5032 - val_accuracy: 0.8283\n",
            "Epoch 5/30\n",
            "9/9 [==============================] - 122s 14s/step - loss: 0.6591 - accuracy: 0.7562 - val_loss: 0.4845 - val_accuracy: 0.8116\n",
            "Epoch 6/30\n",
            "9/9 [==============================] - 107s 12s/step - loss: 0.6139 - accuracy: 0.7839 - val_loss: 0.4981 - val_accuracy: 0.8033\n",
            "Epoch 7/30\n",
            "9/9 [==============================] - 102s 12s/step - loss: 0.5547 - accuracy: 0.7849 - val_loss: 0.4662 - val_accuracy: 0.8116\n",
            "Epoch 8/30\n",
            "9/9 [==============================] - 109s 12s/step - loss: 0.5479 - accuracy: 0.7858 - val_loss: 0.4610 - val_accuracy: 0.8144\n",
            "Epoch 9/30\n",
            "9/9 [==============================] - 103s 12s/step - loss: 0.5203 - accuracy: 0.8033 - val_loss: 0.4763 - val_accuracy: 0.8089\n",
            "Epoch 10/30\n",
            "9/9 [==============================] - 109s 12s/step - loss: 0.5011 - accuracy: 0.8024 - val_loss: 0.4220 - val_accuracy: 0.8338\n",
            "Epoch 11/30\n",
            "9/9 [==============================] - 105s 12s/step - loss: 0.4945 - accuracy: 0.8042 - val_loss: 0.4198 - val_accuracy: 0.8227\n",
            "Epoch 12/30\n",
            "9/9 [==============================] - 125s 14s/step - loss: 0.5004 - accuracy: 0.7969 - val_loss: 0.4304 - val_accuracy: 0.8283\n",
            "Epoch 13/30\n",
            "9/9 [==============================] - 107s 12s/step - loss: 0.4791 - accuracy: 0.8089 - val_loss: 0.4585 - val_accuracy: 0.8144\n",
            "Epoch 14/30\n",
            "9/9 [==============================] - 107s 12s/step - loss: 0.5029 - accuracy: 0.8024 - val_loss: 0.4241 - val_accuracy: 0.8393\n",
            "Epoch 15/30\n",
            "9/9 [==============================] - 125s 14s/step - loss: 0.4689 - accuracy: 0.8199 - val_loss: 0.3984 - val_accuracy: 0.8449\n",
            "Epoch 16/30\n",
            "9/9 [==============================] - 112s 13s/step - loss: 0.4676 - accuracy: 0.8172 - val_loss: 0.4111 - val_accuracy: 0.8366\n",
            "Epoch 17/30\n",
            "9/9 [==============================] - 108s 13s/step - loss: 0.4114 - accuracy: 0.8440 - val_loss: 0.4315 - val_accuracy: 0.8366\n",
            "Epoch 18/30\n",
            "9/9 [==============================] - 103s 12s/step - loss: 0.4092 - accuracy: 0.8356 - val_loss: 0.4487 - val_accuracy: 0.8255\n",
            "Epoch 19/30\n",
            "9/9 [==============================] - 109s 13s/step - loss: 0.4177 - accuracy: 0.8283 - val_loss: 0.4296 - val_accuracy: 0.8310\n",
            "Epoch 20/30\n",
            "9/9 [==============================] - 109s 12s/step - loss: 0.4341 - accuracy: 0.8310 - val_loss: 0.4242 - val_accuracy: 0.8255\n",
            "Epoch 21/30\n",
            "9/9 [==============================] - 110s 12s/step - loss: 0.4227 - accuracy: 0.8347 - val_loss: 0.4358 - val_accuracy: 0.8199\n",
            "Epoch 22/30\n",
            "9/9 [==============================] - 106s 12s/step - loss: 0.4184 - accuracy: 0.8273 - val_loss: 0.4231 - val_accuracy: 0.8283\n",
            "Epoch 23/30\n",
            "9/9 [==============================] - 110s 12s/step - loss: 0.4145 - accuracy: 0.8356 - val_loss: 0.4557 - val_accuracy: 0.8255\n",
            "Epoch 24/30\n",
            "9/9 [==============================] - 108s 12s/step - loss: 0.4044 - accuracy: 0.8412 - val_loss: 0.4530 - val_accuracy: 0.8338\n",
            "Epoch 25/30\n",
            "9/9 [==============================] - 125s 14s/step - loss: 0.3869 - accuracy: 0.8495 - val_loss: 0.3974 - val_accuracy: 0.8449\n",
            "Epoch 26/30\n",
            "9/9 [==============================] - 106s 12s/step - loss: 0.4039 - accuracy: 0.8338 - val_loss: 0.4626 - val_accuracy: 0.8366\n",
            "Epoch 27/30\n",
            "9/9 [==============================] - 109s 12s/step - loss: 0.3839 - accuracy: 0.8449 - val_loss: 0.4638 - val_accuracy: 0.8227\n",
            "Epoch 28/30\n",
            "9/9 [==============================] - 109s 12s/step - loss: 0.3905 - accuracy: 0.8476 - val_loss: 0.4289 - val_accuracy: 0.8366\n",
            "Epoch 29/30\n",
            "9/9 [==============================] - 108s 12s/step - loss: 0.3930 - accuracy: 0.8421 - val_loss: 0.3777 - val_accuracy: 0.8449\n",
            "Epoch 30/30\n",
            "9/9 [==============================] - 104s 12s/step - loss: 0.3975 - accuracy: 0.8476 - val_loss: 0.4363 - val_accuracy: 0.8393\n"
          ]
        }
      ]
    },
    {
      "cell_type": "code",
      "source": [
        "# Evaluate the model\n",
        "test_loss, test_acc = model.evaluate(test_dataset)\n",
        "print(f'Test accuracy: {test_acc:.2f}')"
      ],
      "metadata": {
        "id": "QjdySND8mZho",
        "colab": {
          "base_uri": "https://localhost:8080/"
        },
        "outputId": "3b9274e0-5793-491c-9ecb-e7cc474a016f"
      },
      "execution_count": 26,
      "outputs": [
        {
          "output_type": "stream",
          "name": "stdout",
          "text": [
            "3/3 [==============================] - 145s 68s/step - loss: 0.4498 - accuracy: 0.8287\n",
            "Test accuracy: 0.83\n"
          ]
        }
      ]
    },
    {
      "cell_type": "code",
      "source": [
        "# Plot training & validation accuracy values\n",
        "plt.figure(figsize=(10, 6))\n",
        "plt.plot(history.history['accuracy'])\n",
        "plt.plot(history.history['val_accuracy'])\n",
        "plt.title('Model accuracy')\n",
        "plt.ylabel('Accuracy')\n",
        "plt.xlabel('Epoch')\n",
        "plt.legend(['Train', 'Validation'], loc='upper left')\n",
        "plt.show()"
      ],
      "metadata": {
        "id": "X4XUJknam0V4",
        "colab": {
          "base_uri": "https://localhost:8080/",
          "height": 445
        },
        "outputId": "c9a8a311-43e6-4aaf-fa10-dd764a16cdc4"
      },
      "execution_count": 27,
      "outputs": [
        {
          "output_type": "display_data",
          "data": {
            "text/plain": [
              "<Figure size 1000x600 with 1 Axes>"
            ],
            "image/png": "[encoded data removed]"
          },
          "metadata": {}
        }
      ]
    },
    {
      "cell_type": "code",
      "source": [
        "# Plot training & validation loss values\n",
        "plt.figure(figsize=(10, 6))\n",
        "plt.plot(history.history['loss'])\n",
        "plt.plot(history.history['val_loss'])\n",
        "plt.title('Model loss')\n",
        "plt.ylabel('Loss')\n",
        "plt.xlabel('Epoch')\n",
        "plt.legend(['Train', 'Validation'], loc='upper left')\n",
        "plt.show()"
      ],
      "metadata": {
        "colab": {
          "base_uri": "https://localhost:8080/",
          "height": 450
        },
        "id": "kxecRn3cnlLC",
        "outputId": "4765c2e5-ed17-428a-c0d8-e18cfa19d5c8"
      },
      "execution_count": 28,
      "outputs": [
        {
          "output_type": "display_data",
          "data": {
            "text/plain": [
              "<Figure size 1000x600 with 1 Axes>"
            ],
            "image/png": "[encoded data removed]"
          },
          "metadata": {}
        }
      ]
    }
  ]
}